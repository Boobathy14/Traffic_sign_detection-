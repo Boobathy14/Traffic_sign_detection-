{
 "cells": [
  {
   "cell_type": "code",
   "execution_count": 1,
   "id": "f82c0d0c",
   "metadata": {},
   "outputs": [],
   "source": [
    "import numpy as np\n",
    "import matplotlib.pyplot as plt\n",
    "from tensorflow.keras.preprocessing.image import img_to_array,load_img,ImageDataGenerator\n",
    "from sklearn.model_selection import train_test_split\n",
    "from tensorflow.keras.utils import to_categorical\n",
    "from keras.models import Sequential\n",
    "from keras.layers import Conv2D, MaxPool2D, Dense, Flatten, Dropout\n",
    "import os"
   ]
  },
  {
   "cell_type": "code",
   "execution_count": 2,
   "id": "19d142c3",
   "metadata": {},
   "outputs": [],
   "source": [
    "curr_path =\"Documents\\Python Scripts\\Python_Project\\Traffic\""
   ]
  },
  {
   "cell_type": "code",
   "execution_count": 3,
   "id": "5df24fc8",
   "metadata": {},
   "outputs": [],
   "source": [
    "data=[]\n",
    "labels=[]\n",
    "category=43"
   ]
  },
  {
   "cell_type": "code",
   "execution_count": 4,
   "id": "39b88832",
   "metadata": {},
   "outputs": [],
   "source": [
    "for i in range(category):\n",
    "    path=os.path.join(curr_path,\"Train\",str(i))\n",
    "\n",
    "    for img in os.listdir(path):\n",
    "        img_path=os.path.join(path, img)\n",
    "\n",
    "        image=load_img(img_path,target_size=(30,30))\n",
    "        image =img_to_array(image)\n",
    "        \n",
    "        data.append(image)\n",
    "        labels.append(i)"
   ]
  },
  {
   "cell_type": "code",
   "execution_count": 5,
   "id": "3ed640ab",
   "metadata": {},
   "outputs": [],
   "source": [
    "data = np.array(data)\n",
    "labels = np.array(labels)"
   ]
  },
  {
   "cell_type": "code",
   "execution_count": 6,
   "id": "2933af02",
   "metadata": {},
   "outputs": [
    {
     "name": "stdout",
     "output_type": "stream",
     "text": [
      "(39209, 30, 30, 3) (39209,)\n"
     ]
    }
   ],
   "source": [
    "print(data.shape, labels.shape)"
   ]
  },
  {
   "cell_type": "code",
   "execution_count": 7,
   "id": "2ff19f43",
   "metadata": {},
   "outputs": [],
   "source": [
    "X_train, X_test, y_train, y_test = train_test_split(data, labels, test_size=0.2, random_state=42)"
   ]
  },
  {
   "cell_type": "code",
   "execution_count": 8,
   "id": "eb626238",
   "metadata": {},
   "outputs": [
    {
     "name": "stdout",
     "output_type": "stream",
     "text": [
      "(31367, 30, 30, 3) (7842, 30, 30, 3) (31367,) (7842,)\n"
     ]
    }
   ],
   "source": [
    "print(X_train.shape, X_test.shape, y_train.shape, y_test.shape)"
   ]
  },
  {
   "cell_type": "code",
   "execution_count": 9,
   "id": "802a2eaf",
   "metadata": {},
   "outputs": [],
   "source": [
    "y_train = to_categorical(y_train, 43)\n",
    "y_test = to_categorical(y_test, 43)"
   ]
  },
  {
   "cell_type": "code",
   "execution_count": 10,
   "id": "28b393a7",
   "metadata": {},
   "outputs": [],
   "source": [
    "model = Sequential()\n",
    "model.add(Conv2D(filters=32, kernel_size=(5,5), activation='relu', input_shape=X_train.shape[1:]))\n",
    "model.add(Conv2D(filters=32, kernel_size=(5,5), activation='relu'))\n",
    "model.add(MaxPool2D(pool_size=(2, 2)))\n",
    "model.add(Dropout(rate=0.25))\n",
    "model.add(Conv2D(filters=64, kernel_size=(3, 3), activation='relu'))\n",
    "model.add(Conv2D(filters=64, kernel_size=(3, 3), activation='relu'))\n",
    "model.add(MaxPool2D(pool_size=(2, 2)))\n",
    "model.add(Dropout(rate=0.25))\n",
    "model.add(Flatten())\n",
    "model.add(Dense(256, activation='relu'))\n",
    "model.add(Dropout(rate=0.5))\n",
    "model.add(Dense(43, activation='softmax'))"
   ]
  },
  {
   "cell_type": "code",
   "execution_count": 11,
   "id": "fdb94d36",
   "metadata": {},
   "outputs": [],
   "source": [
    "model.compile(loss='categorical_crossentropy', optimizer='adam', metrics=['accuracy'])"
   ]
  },
  {
   "cell_type": "code",
   "execution_count": 12,
   "id": "a32671c2",
   "metadata": {},
   "outputs": [
    {
     "name": "stdout",
     "output_type": "stream",
     "text": [
      "Epoch 1/15\n",
      "981/981 [==============================] - 107s 84ms/step - loss: 3.5822 - accuracy: 0.2383 - val_loss: 0.8502 - val_accuracy: 0.7803\n",
      "Epoch 2/15\n",
      "981/981 [==============================] - 81s 83ms/step - loss: 1.1653 - accuracy: 0.6544 - val_loss: 0.4221 - val_accuracy: 0.8753\n",
      "Epoch 3/15\n",
      "981/981 [==============================] - 81s 83ms/step - loss: 0.7626 - accuracy: 0.7646 - val_loss: 0.3169 - val_accuracy: 0.8988\n",
      "Epoch 4/15\n",
      "981/981 [==============================] - 81s 83ms/step - loss: 0.5588 - accuracy: 0.8280 - val_loss: 0.2180 - val_accuracy: 0.9364\n",
      "Epoch 5/15\n",
      "981/981 [==============================] - 81s 83ms/step - loss: 0.4735 - accuracy: 0.8560 - val_loss: 0.1878 - val_accuracy: 0.9441\n",
      "Epoch 6/15\n",
      "981/981 [==============================] - 81s 83ms/step - loss: 0.4365 - accuracy: 0.8654 - val_loss: 0.2211 - val_accuracy: 0.9370\n",
      "Epoch 7/15\n",
      "981/981 [==============================] - 81s 83ms/step - loss: 0.4013 - accuracy: 0.8784 - val_loss: 0.1619 - val_accuracy: 0.9505\n",
      "Epoch 8/15\n",
      "981/981 [==============================] - 81s 82ms/step - loss: 0.3489 - accuracy: 0.8938 - val_loss: 0.1287 - val_accuracy: 0.9638\n",
      "Epoch 9/15\n",
      "981/981 [==============================] - 81s 82ms/step - loss: 0.3451 - accuracy: 0.8949 - val_loss: 0.1382 - val_accuracy: 0.9578\n",
      "Epoch 10/15\n",
      "981/981 [==============================] - 81s 83ms/step - loss: 0.3263 - accuracy: 0.9024 - val_loss: 0.1241 - val_accuracy: 0.9652\n",
      "Epoch 11/15\n",
      "981/981 [==============================] - 81s 82ms/step - loss: 0.3177 - accuracy: 0.9054 - val_loss: 0.1261 - val_accuracy: 0.9634\n",
      "Epoch 12/15\n",
      "981/981 [==============================] - 81s 83ms/step - loss: 0.2914 - accuracy: 0.9114 - val_loss: 0.1044 - val_accuracy: 0.9670\n",
      "Epoch 13/15\n",
      "981/981 [==============================] - 82s 83ms/step - loss: 0.2804 - accuracy: 0.9186 - val_loss: 0.0997 - val_accuracy: 0.9690\n",
      "Epoch 14/15\n",
      "981/981 [==============================] - 81s 83ms/step - loss: 0.2911 - accuracy: 0.9170 - val_loss: 0.0841 - val_accuracy: 0.9763\n",
      "Epoch 15/15\n",
      "981/981 [==============================] - 81s 82ms/step - loss: 0.2735 - accuracy: 0.9228 - val_loss: 0.0837 - val_accuracy: 0.9753\n"
     ]
    }
   ],
   "source": [
    "epochs = 15\n",
    "result= model.fit(X_train, y_train, batch_size=32, epochs=epochs, validation_data=(X_test, y_test))\n",
    "model.save(\"my_model.h5\")"
   ]
  },
  {
   "cell_type": "code",
   "execution_count": 18,
   "id": "1029d8d0",
   "metadata": {},
   "outputs": [
    {
     "data": {
      "text/plain": [
       "dict_keys(['loss', 'accuracy', 'val_loss', 'val_accuracy'])"
      ]
     },
     "execution_count": 18,
     "metadata": {},
     "output_type": "execute_result"
    }
   ],
   "source": [
    "result.history.keys()"
   ]
  },
  {
   "cell_type": "code",
   "execution_count": 34,
   "id": "7d767a06",
   "metadata": {},
   "outputs": [
    {
     "data": {
      "image/png": "[encoded data removed]",
      "text/plain": [
       "<Figure size 432x288 with 1 Axes>"
      ]
     },
     "metadata": {
      "needs_background": "light"
     },
     "output_type": "display_data"
    }
   ],
   "source": [
    "plt.plot(result.history['accuracy'],color=\"green\")\n",
    "plt.title(\"Model-Accuracy\")\n",
    "plt.xlabel(\"Epoch\")\n",
    "plt.ylabel(\"Accuracy\")\n",
    "plt.show()"
   ]
  },
  {
   "cell_type": "code",
   "execution_count": 35,
   "id": "2b9fc138",
   "metadata": {},
   "outputs": [
    {
     "data": {
      "image/png": "[encoded data removed]",
      "text/plain": [
       "<Figure size 432x288 with 1 Axes>"
      ]
     },
     "metadata": {
      "needs_background": "light"
     },
     "output_type": "display_data"
    }
   ],
   "source": [
    "plt.plot(result.history['loss'],color=\"Red\")\n",
    "plt.title(\"Model-Loss\")\n",
    "plt.xlabel(\"Epoch\")\n",
    "plt.ylabel(\"Loss\")\n",
    "plt.show()"
   ]
  },
  {
   "cell_type": "code",
   "execution_count": null,
   "id": "77d8938c",
   "metadata": {},
   "outputs": [],
   "source": []
  }
 ],
 "metadata": {
  "kernelspec": {
   "display_name": "Python 3",
   "language": "python",
   "name": "python3"
  },
  "language_info": {
   "codemirror_mode": {
    "name": "ipython",
    "version": 3
   },
   "file_extension": ".py",
   "mimetype": "text/x-python",
   "name": "python",
   "nbconvert_exporter": "python",
   "pygments_lexer": "ipython3",
   "version": "3.7.3"
  }
 },
 "nbformat": 4,
 "nbformat_minor": 5
}
